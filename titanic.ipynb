{
 "cells": [
  {
   "cell_type": "code",
   "execution_count": 34,
   "source": [
    "import torch\n",
    "import torch.nn as nn\n",
    "import seaborn as sns\n",
    "import pandas as pd\n",
    "import statistics\n",
    "from sklearn.preprocessing import StandardScaler\n",
    "from sklearn.model_selection import train_test_split"
   ],
   "outputs": [],
   "metadata": {}
  },
  {
   "cell_type": "markdown",
   "source": [
    "## Preparing the variables"
   ],
   "metadata": {}
  },
  {
   "cell_type": "code",
   "execution_count": 58,
   "source": [
    "df = sns.load_dataset('titanic')\n",
    "print(df.head())\n",
    "numerical_features = ['pclass', 'age', 'sibsp', 'parch']\n",
    "df['age'].fillna(statistics.mean(df['age'].dropna()), inplace=True)\n",
    "\n",
    "# Filling NaN's\n",
    "for column in df[numerical_features].columns:\n",
    "    print(f'column: {column}. na: {df[column].isna().sum()}')\n",
    "\n",
    "features = df[numerical_features].values\n",
    "labels = df['survived'].values\n",
    "\n",
    "# Splitting\n",
    "features_train, features_test, labels_train, labels_test = train_test_split(features, labels)\n",
    "\n",
    "# Scaling features\n",
    "features_train = StandardScaler().fit_transform(features_train)\n",
    "features_test = StandardScaler().fit_transform(features_test)\n",
    "\n",
    "# Transforming\n",
    "dt = torch.float32\n",
    "features_train, features_test, labels_train, labels_test = \\\n",
    "    torch.tensor(features_train, dtype=dt), torch.tensor(features_test, dtype=dt), \\\n",
    "        torch.tensor(labels_train, dtype=dt), torch.tensor(labels_test, dtype=dt)\n",
    "\n",
    "# Reshaping labels\n",
    "labels_train = labels_train.view(-1, 1)\n",
    "labels_test = labels_test.view(-1, 1)\n",
    "print(features_train.shape, labels_train.shape)\n",
    "print(features_test.shape, labels_test.shape)\n",
    "print(features_train.dtype)"
   ],
   "outputs": [
    {
     "output_type": "stream",
     "name": "stdout",
     "text": [
      "   survived  pclass     sex   age  sibsp  parch     fare embarked  class  \\\n",
      "0         0       3    male  22.0      1      0   7.2500        S  Third   \n",
      "1         1       1  female  38.0      1      0  71.2833        C  First   \n",
      "2         1       3  female  26.0      0      0   7.9250        S  Third   \n",
      "3         1       1  female  35.0      1      0  53.1000        S  First   \n",
      "4         0       3    male  35.0      0      0   8.0500        S  Third   \n",
      "\n",
      "     who  adult_male deck  embark_town alive  alone  \n",
      "0    man        True  NaN  Southampton    no  False  \n",
      "1  woman       False    C    Cherbourg   yes  False  \n",
      "2  woman       False  NaN  Southampton   yes   True  \n",
      "3  woman       False    C  Southampton   yes  False  \n",
      "4    man        True  NaN  Southampton    no   True  \n",
      "column: pclass. na: 0\n",
      "column: age. na: 0\n",
      "column: sibsp. na: 0\n",
      "column: parch. na: 0\n",
      "torch.Size([668, 4]) torch.Size([668, 1])\n",
      "torch.Size([223, 4]) torch.Size([223, 1])\n",
      "torch.float32\n"
     ]
    }
   ],
   "metadata": {}
  },
  {
   "cell_type": "markdown",
   "source": [
    "## Logistic regression"
   ],
   "metadata": {}
  },
  {
   "cell_type": "code",
   "execution_count": 78,
   "source": [
    "num_epochs = 1000\n",
    "learning_rate = 0.5\n",
    "\n",
    "# Step 1 (model)\n",
    "class Model(nn.Module):\n",
    "    def __init__(self, features_len):\n",
    "        super(Model, self).__init__()\n",
    "        self.linear = nn.Linear(features_len, 1)\n",
    "    \n",
    "    def forward(self, features):\n",
    "        labels_pred = torch.sigmoid(self.linear(features))\n",
    "        return(labels_pred)\n",
    "    \n",
    "model = Model(features_train.shape[1])\n",
    "\n",
    "# Step 2 (loss function and optimization)\n",
    "criterion = nn.BCELoss()\n",
    "optimizer = torch.optim.SGD(model.parameters(), lr=learning_rate)\n",
    "\n",
    "# Step 3 (fitting)\n",
    "for epoch in range(num_epochs):\n",
    "    labels_pred = model(features_train)\n",
    "    loss = criterion(labels_pred, labels_train)\n",
    "    loss.backward()\n",
    "    optimizer.step()\n",
    "\n",
    "    optimizer.zero_grad()\n",
    "\n",
    "with torch.no_grad():\n",
    "    labels_pred = model(features_test)\n",
    "    labels_pred_cls = labels_pred.round()\n",
    "    acc = labels_pred_cls.eq(labels_test).sum() / float(labels_test.shape[0])\n",
    "    print(f'accuracy: {acc.item():.4f}')"
   ],
   "outputs": [
    {
     "output_type": "stream",
     "name": "stdout",
     "text": [
      "accuracy: 0.7265\n"
     ]
    }
   ],
   "metadata": {}
  }
 ],
 "metadata": {
  "orig_nbformat": 4,
  "language_info": {
   "name": "python",
   "version": "3.9.5",
   "mimetype": "text/x-python",
   "codemirror_mode": {
    "name": "ipython",
    "version": 3
   },
   "pygments_lexer": "ipython3",
   "nbconvert_exporter": "python",
   "file_extension": ".py"
  },
  "kernelspec": {
   "name": "python3",
   "display_name": "Python 3.9.5 64-bit ('base': conda)"
  },
  "interpreter": {
   "hash": "b181ef35ba80af79c4d1943c8c1e1f96a6a39996d831a62fa53ebc414fe3fb14"
  }
 },
 "nbformat": 4,
 "nbformat_minor": 2
}